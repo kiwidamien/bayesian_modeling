{
 "cells": [
  {
   "cell_type": "code",
   "execution_count": 1,
   "id": "a0fd1d6e",
   "metadata": {},
   "outputs": [],
   "source": [
    "import numpy as np\n",
    "import pandas as pd \n",
    "import matplotlib.pyplot as plt\n",
    "from scipy.stats import beta\n",
    "%matplotlib inline"
   ]
  },
  {
   "cell_type": "code",
   "execution_count": 2,
   "id": "fd38185a",
   "metadata": {},
   "outputs": [],
   "source": [
    "import inspect\n",
    "import math\n",
    "import os\n",
    "import warnings\n",
    "\n",
    "#import arviz as az\n",
    "\n",
    "import jax.numpy as jnp\n",
    "from jax import lax, ops, random\n",
    "\n",
    "import numpyro\n",
    "import numpyro.distributions as dist\n",
    "import numpyro.optim as optim\n",
    "from numpyro.diagnostics import print_summary\n",
    "from numpyro.infer import MCMC, NUTS, SVI, Trace_ELBO, init_to_value, Predictive\n",
    "from numpyro.infer.autoguide import AutoLaplaceApproximation"
   ]
  },
  {
   "cell_type": "markdown",
   "id": "cfbfae49",
   "metadata": {},
   "source": [
    "# Linear Regression"
   ]
  },
  {
   "cell_type": "markdown",
   "id": "27a0d393",
   "metadata": {},
   "source": [
    "Let's have two variables and 80 observations in training, and 20 in the test set"
   ]
  },
  {
   "cell_type": "code",
   "execution_count": 3,
   "id": "c5f4a930",
   "metadata": {},
   "outputs": [],
   "source": [
    "X = np.random.normal(0, 1, size=[100, 2])"
   ]
  },
  {
   "cell_type": "code",
   "execution_count": 10,
   "id": "e91f3c5d",
   "metadata": {},
   "outputs": [],
   "source": [
    "y = 10*X[:, 0] - 4*X[:, 1] + np.random.normal(0, 1, size=100) + np.pi"
   ]
  },
  {
   "cell_type": "code",
   "execution_count": 11,
   "id": "4b95e7b8",
   "metadata": {},
   "outputs": [],
   "source": [
    "X_train, X_test = X[:80,:], X[80:,:]\n",
    "y_train, y_test = y[:80], y[80:]"
   ]
  },
  {
   "cell_type": "markdown",
   "id": "602d8d85",
   "metadata": {},
   "source": [
    "## $\\S$ 3.1: Making and training a model"
   ]
  },
  {
   "cell_type": "code",
   "execution_count": 24,
   "id": "35f47223",
   "metadata": {},
   "outputs": [],
   "source": [
    "def simple_linear_regression(X, y=None):\n",
    "    \"\"\"\n",
    "    \"\"\"\n",
    "    coef0 = numpyro.sample(\"coef0\", dist.Normal(0,6))\n",
    "    coef1 = numpyro.sample(\"coef1\", dist.Normal(0,6))\n",
    "    intercept = numpyro.sample(\"b\", dist.Normal(0,6))\n",
    "    prediction = coef0*X[:,0] + coef1*X[:,1] + intercept\n",
    "    std_err = numpyro.sample('sigma', dist.Exponential(1))\n",
    "    return numpyro.sample(\"outcome\", dist.Normal(prediction, std_err), obs=y)"
   ]
  },
  {
   "cell_type": "code",
   "execution_count": 25,
   "id": "f3bdbc6b",
   "metadata": {},
   "outputs": [],
   "source": [
    "chain_run = MCMC(NUTS(simple_linear_regression), num_warmup=500, num_samples=2500, num_chains=1)"
   ]
  },
  {
   "cell_type": "code",
   "execution_count": 26,
   "id": "04e44ca4",
   "metadata": {},
   "outputs": [
    {
     "name": "stderr",
     "output_type": "stream",
     "text": [
      "sample: 100%|██████████| 3000/3000 [00:05<00:00, 507.58it/s, 7 steps of size 7.29e-01. acc. prob=0.92]\n"
     ]
    }
   ],
   "source": [
    "chain_run.run(random.PRNGKey(0), X=X_train, y=y_train)"
   ]
  },
  {
   "cell_type": "code",
   "execution_count": 30,
   "id": "78f4a17b",
   "metadata": {},
   "outputs": [],
   "source": [
    "# What do the in-sample predictions look like?\n",
    "predictions = Predictive(simple_linear_regression, \n",
    "                         posterior_samples=chain_run.get_samples())(random.PRNGKey(2), X_train)['outcome']"
   ]
  },
  {
   "cell_type": "code",
   "execution_count": 38,
   "id": "1e473306",
   "metadata": {},
   "outputs": [
    {
     "data": {
      "image/png": "[encoded data removed]",
      "text/plain": [
       "<Figure size 432x288 with 1 Axes>"
      ]
     },
     "metadata": {
      "needs_background": "light"
     },
     "output_type": "display_data"
    }
   ],
   "source": [
    "plt.plot(y_train, predictions.mean(axis=0), 'o')\n",
    "plt.ylabel('y_predict')\n",
    "plt.xlabel('y_obs');"
   ]
  },
  {
   "cell_type": "code",
   "execution_count": 39,
   "id": "33d8bca4",
   "metadata": {},
   "outputs": [
    {
     "name": "stdout",
     "output_type": "stream",
     "text": [
      "\n",
      "                mean       std    median      5.0%     95.0%     n_eff     r_hat\n",
      "         b      3.35      0.12      3.35      3.14      3.54   2420.60      1.00\n",
      "     coef0      9.83      0.14      9.83      9.61     10.08   2619.28      1.00\n",
      "     coef1     -4.20      0.12     -4.20     -4.38     -4.01   2595.48      1.00\n",
      "     sigma      1.07      0.09      1.06      0.92      1.21   1847.60      1.00\n",
      "\n",
      "Number of divergences: 0\n"
     ]
    }
   ],
   "source": [
    "chain_run.print_summary()"
   ]
  },
  {
   "cell_type": "markdown",
   "id": "a585c55f",
   "metadata": {},
   "source": [
    "## Predict over new values\n",
    "\n",
    "The first naive attempt will fail, because the test and training sets are different sizes:"
   ]
  },
  {
   "cell_type": "code",
   "execution_count": 40,
   "id": "fe276d18",
   "metadata": {},
   "outputs": [],
   "source": [
    "# What do the in-sample predictions look like?\n",
    "predictions_test = Predictive(simple_linear_regression, \n",
    "                              posterior_samples=chain_run.get_samples())(random.PRNGKey(2), X_test)['outcome']"
   ]
  },
  {
   "cell_type": "code",
   "execution_count": 49,
   "id": "3de891e6",
   "metadata": {},
   "outputs": [
    {
     "data": {
      "image/png": "[encoded data removed]",
      "text/plain": [
       "<Figure size 432x288 with 1 Axes>"
      ]
     },
     "metadata": {
      "needs_background": "light"
     },
     "output_type": "display_data"
    }
   ],
   "source": [
    "plt.plot(y_test, predictions_test.mean(axis=0), 'o')\n",
    "plt.ylabel('y_predict')\n",
    "\n",
    "y_mu = jnp.mean(predictions_test, 0)\n",
    "y_ci = jnp.percentile(predictions_test, (0.05, 94.5), 0)\n",
    "\n",
    "plt.plot(y_test, y_mu, \"k\", lw=1.5)\n",
    "plt.fill_between(y_test, y_ci[0], y_ci[1], color=\"k\", alpha=0.2)\n",
    "\n",
    "plt.xlabel('y_obs');\n"
   ]
  },
  {
   "cell_type": "markdown",
   "id": "01ef299d",
   "metadata": {},
   "source": [
    "## Generate values"
   ]
  },
  {
   "cell_type": "code",
   "execution_count": null,
   "id": "cf03d71a",
   "metadata": {},
   "outputs": [],
   "source": []
  }
 ],
 "metadata": {
  "kernelspec": {
   "display_name": "bayesian",
   "language": "python",
   "name": "bayesian"
  },
  "language_info": {
   "codemirror_mode": {
    "name": "ipython",
    "version": 3
   },
   "file_extension": ".py",
   "mimetype": "text/x-python",
   "name": "python",
   "nbconvert_exporter": "python",
   "pygments_lexer": "ipython3",
   "version": "3.9.2"
  }
 },
 "nbformat": 4,
 "nbformat_minor": 5
}
