{
 "cells": [
  {
   "cell_type": "code",
   "execution_count": 1,
   "id": "dd796a09",
   "metadata": {},
   "outputs": [],
   "source": [
    "import inspect\n",
    "import math\n",
    "import os\n",
    "import warnings\n",
    "\n",
    "#import arviz as az\n",
    "\n",
    "import jax.numpy as jnp\n",
    "from jax import lax, ops, random\n",
    "\n",
    "import numpyro\n",
    "import numpyro.distributions as dist\n",
    "import numpyro.optim as optim\n",
    "from numpyro.diagnostics import print_summary\n",
    "from numpyro.infer import MCMC, NUTS, SVI, Trace_ELBO, init_to_value, Predictive\n",
    "from numpyro.infer.autoguide import AutoLaplaceApproximation\n",
    "\n",
    "import arviz\n",
    "\n",
    "import numpy as np\n",
    "import pandas as pd \n",
    "import matplotlib.pyplot as plt\n",
    "from scipy.stats import beta\n",
    "%matplotlib inline"
   ]
  },
  {
   "cell_type": "markdown",
   "id": "ce0eb9d6",
   "metadata": {},
   "source": [
    "## 5 Bayesian: A love story"
   ]
  },
  {
   "cell_type": "markdown",
   "id": "b29d3059",
   "metadata": {},
   "source": [
    "We are taking this model from [this blog post](https://medium.com/paper-club/understanding-pyros-model-and-guide-a-love-story-7f3aa0603886) and translating it over to numpyro from pyro. \n",
    "\n",
    "Basic setup of the story:\n",
    "\n",
    "* There are three friends that take turns paying for lunch\n",
    "* The draws are supposed to be uniform (1/3, 1/3, 1/3)\n",
    "* After collecting data, the article wants to do a hypothesis test -- are the probabilitiese equal"
   ]
  },
  {
   "cell_type": "code",
   "execution_count": 2,
   "id": "ce572fde",
   "metadata": {},
   "outputs": [],
   "source": [
    "def model(data):\n",
    "    a,b,c = 5,5,5\n",
    "    pay_probs = numpyro.sample('pay_probs', dist.Dirichlet(np.array([a,b,c])))\n",
    "    with numpyro.plate('data_loop', len(data)):\n",
    "        return numpyro.sample('obs', dist.Categorical(probs=pay_probs), obs=data)"
   ]
  },
  {
   "cell_type": "markdown",
   "id": "c7c38085",
   "metadata": {},
   "source": [
    "Specicifcally, we are intested in what the vector pay_probs is. Let's define the chain:"
   ]
  },
  {
   "cell_type": "code",
   "execution_count": 3,
   "id": "b488c921",
   "metadata": {},
   "outputs": [],
   "source": [
    "mcmc = MCMC(NUTS(model), num_warmup=500, num_samples=2500, num_chains=1)"
   ]
  },
  {
   "cell_type": "markdown",
   "id": "eb9c9b6e",
   "metadata": {},
   "source": [
    "## Scenario 1: 5 meals, person 1 (index 0) pays for 5 meals"
   ]
  },
  {
   "cell_type": "code",
   "execution_count": 4,
   "id": "da13472a",
   "metadata": {},
   "outputs": [],
   "source": [
    "data_scenario1 = np.array([0] * 5)"
   ]
  },
  {
   "cell_type": "code",
   "execution_count": 5,
   "id": "5e0c17c7",
   "metadata": {},
   "outputs": [
    {
     "name": "stderr",
     "output_type": "stream",
     "text": [
      "sample: 100%|██████████| 3000/3000 [00:05<00:00, 544.86it/s, 3 steps of size 9.90e-01. acc. prob=0.90]\n"
     ]
    }
   ],
   "source": [
    "mcmc.run(random.PRNGKey(0), data=data_scenario1)"
   ]
  },
  {
   "cell_type": "code",
   "execution_count": 6,
   "id": "bb812a8b",
   "metadata": {},
   "outputs": [
    {
     "name": "stdout",
     "output_type": "stream",
     "text": [
      "\n",
      "                  mean       std    median      5.0%     95.0%     n_eff     r_hat\n",
      "pay_probs[0]      0.50      0.11      0.50      0.34      0.69   1913.71      1.00\n",
      "pay_probs[1]      0.25      0.09      0.24      0.10      0.39   2115.10      1.00\n",
      "pay_probs[2]      0.25      0.09      0.24      0.09      0.39   2040.44      1.00\n",
      "\n",
      "Number of divergences: 0\n"
     ]
    }
   ],
   "source": [
    "mcmc.print_summary()"
   ]
  },
  {
   "cell_type": "markdown",
   "id": "949cbe6a",
   "metadata": {},
   "source": [
    "## Scenario 2: 50 meals, person 1 (index 0) pays for all"
   ]
  },
  {
   "cell_type": "code",
   "execution_count": 7,
   "id": "961a8001",
   "metadata": {},
   "outputs": [
    {
     "name": "stderr",
     "output_type": "stream",
     "text": [
      "sample: 100%|██████████| 3000/3000 [00:05<00:00, 556.46it/s, 3 steps of size 7.98e-01. acc. prob=0.93]\n"
     ]
    },
    {
     "name": "stdout",
     "output_type": "stream",
     "text": [
      "\n",
      "                  mean       std    median      5.0%     95.0%     n_eff     r_hat\n",
      "pay_probs[0]      0.85      0.05      0.85      0.78      0.92   1737.29      1.00\n",
      "pay_probs[1]      0.08      0.03      0.07      0.03      0.13   1844.67      1.00\n",
      "pay_probs[2]      0.08      0.03      0.07      0.02      0.12   1798.31      1.00\n",
      "\n",
      "Number of divergences: 0\n"
     ]
    }
   ],
   "source": [
    "data_scenario2 = np.array([0] * 50)\n",
    "mcmc.run(random.PRNGKey(0), data=data_scenario2)\n",
    "mcmc.print_summary()"
   ]
  },
  {
   "cell_type": "markdown",
   "id": "24deb680",
   "metadata": {},
   "source": [
    "## Scenario 3: 50 meals, person 1 pays 30, person 2 pays 15, person 3 pays 5"
   ]
  },
  {
   "cell_type": "code",
   "execution_count": 8,
   "id": "80741abb",
   "metadata": {},
   "outputs": [
    {
     "name": "stderr",
     "output_type": "stream",
     "text": [
      "sample: 100%|██████████| 3000/3000 [00:05<00:00, 551.13it/s, 3 steps of size 8.77e-01. acc. prob=0.91]\n"
     ]
    },
    {
     "name": "stdout",
     "output_type": "stream",
     "text": [
      "\n",
      "                  mean       std    median      5.0%     95.0%     n_eff     r_hat\n",
      "pay_probs[0]      0.54      0.06      0.54      0.45      0.65   2481.37      1.00\n",
      "pay_probs[1]      0.31      0.06      0.31      0.21      0.39   2206.28      1.00\n",
      "pay_probs[2]      0.15      0.04      0.15      0.08      0.22   2009.37      1.00\n",
      "\n",
      "Number of divergences: 0\n"
     ]
    }
   ],
   "source": [
    "data_scenario3 = np.array([0]*30 + [1]*15 + [2]*5)\n",
    "mcmc.run(random.PRNGKey(0), data=data_scenario3)\n",
    "mcmc.print_summary()"
   ]
  },
  {
   "cell_type": "markdown",
   "id": "c6bc0698",
   "metadata": {},
   "source": [
    "## Focus on results with scenario 3\n",
    "\n",
    "Let's use the sample of the posterior distribution to get our distribution of what we think the probabilities are"
   ]
  },
  {
   "cell_type": "code",
   "execution_count": 9,
   "id": "1b5b806b",
   "metadata": {},
   "outputs": [
    {
     "data": {
      "text/plain": [
       "DeviceArray([[0.54328454, 0.348791  , 0.10792445],\n",
       "             [0.52965343, 0.2814414 , 0.18890518],\n",
       "             [0.52965343, 0.2814414 , 0.18890518],\n",
       "             [0.5395693 , 0.35601825, 0.10441244],\n",
       "             [0.5024087 , 0.38344777, 0.11414355]], dtype=float32)"
      ]
     },
     "execution_count": 9,
     "metadata": {},
     "output_type": "execute_result"
    }
   ],
   "source": [
    "# Sample the probabilities from the chain by getting first 5 runs\n",
    "mcmc.get_samples()['pay_probs'][:5 ,:]"
   ]
  },
  {
   "cell_type": "code",
   "execution_count": 10,
   "id": "05b84e34",
   "metadata": {},
   "outputs": [
    {
     "data": {
      "image/png": "[encoded data removed]",
      "text/plain": [
       "<Figure size 432x288 with 1 Axes>"
      ]
     },
     "metadata": {
      "needs_background": "light"
     },
     "output_type": "display_data"
    }
   ],
   "source": [
    "# Let's make a histogram of the probabilities from the samples in the chain\n",
    "ax = plt.hist(mcmc.get_samples()['pay_probs'][:, 0], bins=30, label='person 0');\n",
    "plt.hist(mcmc.get_samples()['pay_probs'][:, 1], bins=30, label='person 1');\n",
    "plt.hist(mcmc.get_samples()['pay_probs'][:, 2], bins=30, label='person 2');\n",
    "plt.legend();\n",
    "plt.title('Fraction each person paid (from MC chain samples)');"
   ]
  },
  {
   "cell_type": "markdown",
   "id": "a97993e5",
   "metadata": {},
   "source": [
    "## Do it again, but with guides"
   ]
  },
  {
   "cell_type": "markdown",
   "id": "3e8072c7",
   "metadata": {},
   "source": [
    "Guides allow us to more rapidly converge on the parameters (but we neede a parameteric description of what we think the final solution looks like). This is a trade-off: we get speed, but we lose the flexibility to fit distributions that we are not anticipating."
   ]
  },
  {
   "cell_type": "code",
   "execution_count": 11,
   "id": "6340479a",
   "metadata": {},
   "outputs": [],
   "source": [
    "def guide(data=None):\n",
    "    priors = numpyro.param(\"priors\", jnp.array([5,5,5]), constraint=dist.constraints.positive)\n",
    "    pay_probs = numpyro.sample('pay_probs', dist.Dirichlet(priors))"
   ]
  },
  {
   "cell_type": "markdown",
   "id": "9baac794",
   "metadata": {},
   "source": [
    "Let's solve using gradient descent (instead of MonteCarlo Markov Chain):"
   ]
  },
  {
   "cell_type": "code",
   "execution_count": 12,
   "id": "72ef0168",
   "metadata": {},
   "outputs": [
    {
     "name": "stderr",
     "output_type": "stream",
     "text": [
      "100%|██████████| 2000/2000 [00:03<00:00, 633.04it/s, init loss: 77.8202, avg. loss [1901-2000]: 48.9030] \n"
     ]
    }
   ],
   "source": [
    "optimizer = numpyro.optim.Adam(step_size=0.05)\n",
    "svi = SVI(model, guide, optimizer, loss=Trace_ELBO())\n",
    "\n",
    "svi_result = svi.run(random.PRNGKey(0), 2000, data=data_scenario3)"
   ]
  },
  {
   "cell_type": "markdown",
   "id": "6f4e12c2",
   "metadata": {},
   "source": [
    "Now make a predictive model. The guide allows us to do gradient descent and find the parameters, but we also hav to pass the parameters in (we do this using `params=svi_result.params`)"
   ]
  },
  {
   "cell_type": "code",
   "execution_count": 13,
   "id": "9ba419af",
   "metadata": {},
   "outputs": [],
   "source": [
    "predictive = Predictive(model=model, \n",
    "                        guide=guide, \n",
    "                        params=svi_result.params, \n",
    "                        num_samples=6000,\n",
    "                        return_sites=['pay_probs', 'obs'])"
   ]
  },
  {
   "cell_type": "code",
   "execution_count": 14,
   "id": "20f9fbc8",
   "metadata": {},
   "outputs": [],
   "source": [
    "# Okay, lets generate new data NOT using the MCMC using the data in scenario 3\n",
    "generated_observations = predictive(rng_key=random.PRNGKey(1), data=data_scenario3)"
   ]
  },
  {
   "cell_type": "code",
   "execution_count": 15,
   "id": "0d349411",
   "metadata": {},
   "outputs": [
    {
     "data": {
      "text/plain": [
       "{'priors': DeviceArray([32.11033 , 18.65016 ,  9.577283], dtype=float32)}"
      ]
     },
     "execution_count": 15,
     "metadata": {},
     "output_type": "execute_result"
    }
   ],
   "source": [
    "svi_result.params"
   ]
  },
  {
   "cell_type": "code",
   "execution_count": 16,
   "id": "b1d99a39",
   "metadata": {},
   "outputs": [
    {
     "data": {
      "text/plain": [
       "{'obs': DeviceArray([[0, 0, 0, ..., 2, 2, 2],\n",
       "              [0, 0, 0, ..., 2, 2, 2],\n",
       "              [0, 0, 0, ..., 2, 2, 2],\n",
       "              ...,\n",
       "              [0, 0, 0, ..., 2, 2, 2],\n",
       "              [0, 0, 0, ..., 2, 2, 2],\n",
       "              [0, 0, 0, ..., 2, 2, 2]], dtype=int32),\n",
       " 'pay_probs': DeviceArray([[0.55314857, 0.27000886, 0.17684253],\n",
       "              [0.5616581 , 0.29624367, 0.1420983 ],\n",
       "              [0.66025287, 0.172514  , 0.16723315],\n",
       "              ...,\n",
       "              [0.50225776, 0.30359986, 0.19414233],\n",
       "              [0.5507777 , 0.31346777, 0.13575463],\n",
       "              [0.57796997, 0.24305525, 0.17897479]], dtype=float32)}"
      ]
     },
     "execution_count": 16,
     "metadata": {},
     "output_type": "execute_result"
    }
   ],
   "source": [
    "# Note that \"obs\" is just a copy of the observational data we put in\n",
    "generated_observations"
   ]
  },
  {
   "cell_type": "code",
   "execution_count": 17,
   "id": "cb455ddb",
   "metadata": {},
   "outputs": [
    {
     "data": {
      "image/png": "[encoded data removed]",
      "text/plain": [
       "<Figure size 432x288 with 1 Axes>"
      ]
     },
     "metadata": {
      "needs_background": "light"
     },
     "output_type": "display_data"
    }
   ],
   "source": [
    "plt.hist(generated_observations['pay_probs'][:, 0], bins=30, label='person 0');\n",
    "plt.hist(generated_observations['pay_probs'][:, 1], bins=30, label='person 1');\n",
    "plt.hist(generated_observations['pay_probs'][:, 2], bins=30, label='person 2');\n",
    "plt.legend();\n",
    "plt.title('Fraction each person paid (from guide estimates/SVI)');"
   ]
  },
  {
   "cell_type": "code",
   "execution_count": null,
   "id": "3b4a8c17",
   "metadata": {},
   "outputs": [],
   "source": []
  }
 ],
 "metadata": {
  "kernelspec": {
   "display_name": "bayesian",
   "language": "python",
   "name": "bayesian"
  },
  "language_info": {
   "codemirror_mode": {
    "name": "ipython",
    "version": 3
   },
   "file_extension": ".py",
   "mimetype": "text/x-python",
   "name": "python",
   "nbconvert_exporter": "python",
   "pygments_lexer": "ipython3",
   "version": "3.9.2"
  }
 },
 "nbformat": 4,
 "nbformat_minor": 5
}
