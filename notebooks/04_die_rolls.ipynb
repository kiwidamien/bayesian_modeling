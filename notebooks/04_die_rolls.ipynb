{
 "cells": [
  {
   "cell_type": "code",
   "execution_count": 1,
   "id": "d3792732",
   "metadata": {},
   "outputs": [],
   "source": [
    "import inspect\n",
    "import math\n",
    "import os\n",
    "import warnings\n",
    "\n",
    "#import arviz as az\n",
    "\n",
    "import jax.numpy as jnp\n",
    "from jax import lax, ops, random\n",
    "\n",
    "import numpyro\n",
    "import numpyro.distributions as dist\n",
    "import numpyro.optim as optim\n",
    "from numpyro.diagnostics import print_summary\n",
    "from numpyro.infer import MCMC, NUTS, SVI, Trace_ELBO, init_to_value, Predictive\n",
    "from numpyro.infer.autoguide import AutoLaplaceApproximation\n",
    "\n",
    "import arviz\n",
    "\n",
    "import numpy as np\n",
    "import pandas as pd \n",
    "import matplotlib.pyplot as plt\n",
    "from scipy.stats import beta\n",
    "%matplotlib inline"
   ]
  },
  {
   "cell_type": "markdown",
   "id": "757b235d",
   "metadata": {},
   "source": [
    "# 4 Die rolls"
   ]
  },
  {
   "cell_type": "markdown",
   "id": "d538fd5c",
   "metadata": {},
   "source": [
    "Let's consider multiple manufactered die of different colors, with thee following properties:\n",
    "\n",
    "1. A particular die has it's own probabilities of rolling a 1,2,3,...,6. i.e. they are not \"fair\" dice.\n",
    "2. Manufacturing processes for the different dice lead to different distributions of the probabilities for that die\n",
    "\n",
    "That is, while our red dice have a manufactering process that -- on average -- produces fair dice, any particular red die will likely be a littlee unfair."
   ]
  },
  {
   "cell_type": "code",
   "execution_count": 2,
   "id": "22641991",
   "metadata": {},
   "outputs": [],
   "source": [
    "green_avg_fair = np.random.dirichlet(alpha = [1, 1, 1, 1, 1, 1], size=3)\n",
    "blue_biased_die = np.random.dirichlet(alpha=[1, 1, 5, 1, 1, 1], size=5)\n",
    "red_really_fair = np.random.dirichlet(alpha=[10,10,10,10,10,10], size=3)"
   ]
  },
  {
   "cell_type": "code",
   "execution_count": 3,
   "id": "30b32ad3",
   "metadata": {},
   "outputs": [
    {
     "data": {
      "text/plain": [
       "array([[0.14520733, 0.1472884 , 0.16182545, 0.15836011, 0.18349667,\n",
       "        0.20382205],\n",
       "       [0.11543241, 0.18757482, 0.11850072, 0.17620032, 0.20093241,\n",
       "        0.20135933],\n",
       "       [0.19985665, 0.19275562, 0.11016164, 0.19987729, 0.15544782,\n",
       "        0.14190098]])"
      ]
     },
     "execution_count": 3,
     "metadata": {},
     "output_type": "execute_result"
    }
   ],
   "source": [
    "red_really_fair"
   ]
  },
  {
   "cell_type": "code",
   "execution_count": 4,
   "id": "f204de9f",
   "metadata": {},
   "outputs": [],
   "source": [
    "def create_dice(color_name, p_values, n_rolls):\n",
    "    assert len(p_values)==len(n_rolls)\n",
    "    df = pd.DataFrame({\n",
    "        'outcomes': [np.random.multinomial(n=n_r,pvals=p_v) \n",
    "                     for n_r, p_v in zip(n_rolls, p_values)],\n",
    "        'rolls': n_rolls,\n",
    "        'color': color_name\n",
    "    })\n",
    "    for result in [1,2,3,4,5,6]:\n",
    "        df[f'n_{result}'] = df['outcomes'].apply(lambda x: x[result-1])\n",
    "        \n",
    "    return df"
   ]
  },
  {
   "cell_type": "code",
   "execution_count": 38,
   "id": "569d2fc5",
   "metadata": {},
   "outputs": [],
   "source": [
    "_dfs = [\n",
    "    create_dice('red', red_really_fair, [300, 400, 800]),\n",
    "    create_dice('green', green_avg_fair, [40, 200, 90]),\n",
    "    create_dice('blue', blue_biased_die, [40, 60, 200, 90, 100])\n",
    "]\n",
    "\n",
    "df_experiment = pd.concat(_dfs).reset_index(drop=True)"
   ]
  },
  {
   "cell_type": "code",
   "execution_count": 39,
   "id": "40e1b9ca",
   "metadata": {},
   "outputs": [
    {
     "data": {
      "text/html": [
       "<div>\n",
       "<style scoped>\n",
       "    .dataframe tbody tr th:only-of-type {\n",
       "        vertical-align: middle;\n",
       "    }\n",
       "\n",
       "    .dataframe tbody tr th {\n",
       "        vertical-align: top;\n",
       "    }\n",
       "\n",
       "    .dataframe thead th {\n",
       "        text-align: right;\n",
       "    }\n",
       "</style>\n",
       "<table border=\"1\" class=\"dataframe\">\n",
       "  <thead>\n",
       "    <tr style=\"text-align: right;\">\n",
       "      <th></th>\n",
       "      <th>outcomes</th>\n",
       "      <th>rolls</th>\n",
       "      <th>color</th>\n",
       "      <th>n_1</th>\n",
       "      <th>n_2</th>\n",
       "      <th>n_3</th>\n",
       "      <th>n_4</th>\n",
       "      <th>n_5</th>\n",
       "      <th>n_6</th>\n",
       "    </tr>\n",
       "  </thead>\n",
       "  <tbody>\n",
       "    <tr>\n",
       "      <th>0</th>\n",
       "      <td>[45, 44, 50, 50, 57, 54]</td>\n",
       "      <td>300</td>\n",
       "      <td>red</td>\n",
       "      <td>45</td>\n",
       "      <td>44</td>\n",
       "      <td>50</td>\n",
       "      <td>50</td>\n",
       "      <td>57</td>\n",
       "      <td>54</td>\n",
       "    </tr>\n",
       "    <tr>\n",
       "      <th>1</th>\n",
       "      <td>[42, 67, 51, 76, 79, 85]</td>\n",
       "      <td>400</td>\n",
       "      <td>red</td>\n",
       "      <td>42</td>\n",
       "      <td>67</td>\n",
       "      <td>51</td>\n",
       "      <td>76</td>\n",
       "      <td>79</td>\n",
       "      <td>85</td>\n",
       "    </tr>\n",
       "    <tr>\n",
       "      <th>2</th>\n",
       "      <td>[161, 165, 79, 168, 113, 114]</td>\n",
       "      <td>800</td>\n",
       "      <td>red</td>\n",
       "      <td>161</td>\n",
       "      <td>165</td>\n",
       "      <td>79</td>\n",
       "      <td>168</td>\n",
       "      <td>113</td>\n",
       "      <td>114</td>\n",
       "    </tr>\n",
       "    <tr>\n",
       "      <th>3</th>\n",
       "      <td>[0, 3, 5, 12, 6, 14]</td>\n",
       "      <td>40</td>\n",
       "      <td>green</td>\n",
       "      <td>0</td>\n",
       "      <td>3</td>\n",
       "      <td>5</td>\n",
       "      <td>12</td>\n",
       "      <td>6</td>\n",
       "      <td>14</td>\n",
       "    </tr>\n",
       "    <tr>\n",
       "      <th>4</th>\n",
       "      <td>[11, 50, 96, 9, 13, 21]</td>\n",
       "      <td>200</td>\n",
       "      <td>green</td>\n",
       "      <td>11</td>\n",
       "      <td>50</td>\n",
       "      <td>96</td>\n",
       "      <td>9</td>\n",
       "      <td>13</td>\n",
       "      <td>21</td>\n",
       "    </tr>\n",
       "    <tr>\n",
       "      <th>5</th>\n",
       "      <td>[35, 7, 34, 7, 2, 5]</td>\n",
       "      <td>90</td>\n",
       "      <td>green</td>\n",
       "      <td>35</td>\n",
       "      <td>7</td>\n",
       "      <td>34</td>\n",
       "      <td>7</td>\n",
       "      <td>2</td>\n",
       "      <td>5</td>\n",
       "    </tr>\n",
       "    <tr>\n",
       "      <th>6</th>\n",
       "      <td>[4, 11, 16, 1, 3, 5]</td>\n",
       "      <td>40</td>\n",
       "      <td>blue</td>\n",
       "      <td>4</td>\n",
       "      <td>11</td>\n",
       "      <td>16</td>\n",
       "      <td>1</td>\n",
       "      <td>3</td>\n",
       "      <td>5</td>\n",
       "    </tr>\n",
       "    <tr>\n",
       "      <th>7</th>\n",
       "      <td>[1, 1, 44, 0, 12, 2]</td>\n",
       "      <td>60</td>\n",
       "      <td>blue</td>\n",
       "      <td>1</td>\n",
       "      <td>1</td>\n",
       "      <td>44</td>\n",
       "      <td>0</td>\n",
       "      <td>12</td>\n",
       "      <td>2</td>\n",
       "    </tr>\n",
       "    <tr>\n",
       "      <th>8</th>\n",
       "      <td>[0, 43, 89, 6, 8, 54]</td>\n",
       "      <td>200</td>\n",
       "      <td>blue</td>\n",
       "      <td>0</td>\n",
       "      <td>43</td>\n",
       "      <td>89</td>\n",
       "      <td>6</td>\n",
       "      <td>8</td>\n",
       "      <td>54</td>\n",
       "    </tr>\n",
       "    <tr>\n",
       "      <th>9</th>\n",
       "      <td>[19, 6, 19, 20, 11, 15]</td>\n",
       "      <td>90</td>\n",
       "      <td>blue</td>\n",
       "      <td>19</td>\n",
       "      <td>6</td>\n",
       "      <td>19</td>\n",
       "      <td>20</td>\n",
       "      <td>11</td>\n",
       "      <td>15</td>\n",
       "    </tr>\n",
       "    <tr>\n",
       "      <th>10</th>\n",
       "      <td>[15, 10, 47, 16, 1, 11]</td>\n",
       "      <td>100</td>\n",
       "      <td>blue</td>\n",
       "      <td>15</td>\n",
       "      <td>10</td>\n",
       "      <td>47</td>\n",
       "      <td>16</td>\n",
       "      <td>1</td>\n",
       "      <td>11</td>\n",
       "    </tr>\n",
       "  </tbody>\n",
       "</table>\n",
       "</div>"
      ],
      "text/plain": [
       "                         outcomes  rolls  color  n_1  n_2  n_3  n_4  n_5  n_6\n",
       "0        [45, 44, 50, 50, 57, 54]    300    red   45   44   50   50   57   54\n",
       "1        [42, 67, 51, 76, 79, 85]    400    red   42   67   51   76   79   85\n",
       "2   [161, 165, 79, 168, 113, 114]    800    red  161  165   79  168  113  114\n",
       "3            [0, 3, 5, 12, 6, 14]     40  green    0    3    5   12    6   14\n",
       "4         [11, 50, 96, 9, 13, 21]    200  green   11   50   96    9   13   21\n",
       "5            [35, 7, 34, 7, 2, 5]     90  green   35    7   34    7    2    5\n",
       "6            [4, 11, 16, 1, 3, 5]     40   blue    4   11   16    1    3    5\n",
       "7            [1, 1, 44, 0, 12, 2]     60   blue    1    1   44    0   12    2\n",
       "8           [0, 43, 89, 6, 8, 54]    200   blue    0   43   89    6    8   54\n",
       "9         [19, 6, 19, 20, 11, 15]     90   blue   19    6   19   20   11   15\n",
       "10        [15, 10, 47, 16, 1, 11]    100   blue   15   10   47   16    1   11"
      ]
     },
     "execution_count": 39,
     "metadata": {},
     "output_type": "execute_result"
    }
   ],
   "source": [
    "df_experiment"
   ]
  },
  {
   "cell_type": "markdown",
   "id": "cdd3ebbc",
   "metadata": {},
   "source": [
    "```\n",
    "p = 1/(1+np.exp(-z))\n",
    "1/p = 1+exp(-z)\n",
    "(1-p)/p = exp(-z)\n",
    "z = log(p/1-p)\n",
    "```"
   ]
  },
  {
   "cell_type": "code",
   "execution_count": 40,
   "id": "159c2889",
   "metadata": {},
   "outputs": [
    {
     "data": {
      "text/plain": [
       "-1.6094379124341005"
      ]
     },
     "execution_count": 40,
     "metadata": {},
     "output_type": "execute_result"
    }
   ],
   "source": [
    "np.log((1/6)/(5/6))"
   ]
  },
  {
   "cell_type": "code",
   "execution_count": 41,
   "id": "c792e6b6",
   "metadata": {},
   "outputs": [],
   "source": [
    "def simple_color_based_pooling(X, color_index, n_sixes=None):\n",
    "    \"\"\"\n",
    "    \"\"\"\n",
    "    sigma = numpyro.sample(\"sigma\", dist.Exponential(1))\n",
    "    z_color = numpyro.sample(\"z_color\", dist.Normal(-1.61, 0.3), sample_shape=(3,))\n",
    "    \n",
    "    with numpyro.plate('die', len(X)):\n",
    "        z_die = numpyro.sample(\"z_die\", dist.Normal(0, 0.1))\n",
    "\n",
    "        z = z_color[color_index] + z_die\n",
    "        p = numpyro.deterministic(\"p_6\", 1/(1+jnp.exp(-z)))\n",
    "        return numpyro.sample(\"sixes\", dist.Binomial(total_count=X.rolls.values, probs=p), obs=n_sixes)"
   ]
  },
  {
   "cell_type": "code",
   "execution_count": 42,
   "id": "a28f8514",
   "metadata": {},
   "outputs": [],
   "source": [
    "df_experiment['color'] = df_experiment.color.astype(\"category\")"
   ]
  },
  {
   "cell_type": "code",
   "execution_count": 47,
   "id": "b1cac6c0",
   "metadata": {},
   "outputs": [],
   "source": [
    "chain_run = MCMC(NUTS(simple_color_based_pooling), num_warmup=2000, num_samples=2500, num_chains=1)"
   ]
  },
  {
   "cell_type": "code",
   "execution_count": 48,
   "id": "4759ca6f",
   "metadata": {},
   "outputs": [
    {
     "name": "stderr",
     "output_type": "stream",
     "text": [
      "sample: 100%|██████████| 4500/4500 [00:07<00:00, 609.83it/s, 7 steps of size 5.14e-01. acc. prob=0.90]\n"
     ]
    }
   ],
   "source": [
    "chain_run.run(rng_key=random.PRNGKey(0), X=df_experiment, color_index=df_experiment.color.cat.codes.values,\n",
    "             n_sixes=df_experiment.n_6.values)"
   ]
  },
  {
   "cell_type": "code",
   "execution_count": 49,
   "id": "821442c8",
   "metadata": {},
   "outputs": [
    {
     "name": "stdout",
     "output_type": "stream",
     "text": [
      "\n",
      "                mean       std    median      5.0%     95.0%     n_eff     r_hat\n",
      "     sigma      0.99      1.03      0.67      0.00      2.34   4369.14      1.00\n",
      "z_color[0]     -1.59      0.12     -1.58     -1.80     -1.41   3649.96      1.00\n",
      "z_color[1]     -1.87      0.16     -1.87     -2.15     -1.64   3795.27      1.00\n",
      "z_color[2]     -1.57      0.09     -1.57     -1.72     -1.43   2609.39      1.00\n",
      "  z_die[0]      0.02      0.09      0.02     -0.13      0.17   3891.82      1.00\n",
      "  z_die[1]      0.10      0.09      0.10     -0.04      0.25   3530.68      1.00\n",
      "  z_die[2]     -0.11      0.08     -0.11     -0.25      0.03   2839.78      1.00\n",
      "  z_die[3]      0.08      0.10      0.08     -0.07      0.24   4838.60      1.00\n",
      "  z_die[4]     -0.05      0.10     -0.04     -0.20      0.12   4660.18      1.00\n",
      "  z_die[5]     -0.06      0.09     -0.06     -0.21      0.09   5890.96      1.00\n",
      "  z_die[6]     -0.02      0.10     -0.02     -0.19      0.13   4429.56      1.00\n",
      "  z_die[7]     -0.08      0.10     -0.08     -0.23      0.09   4862.46      1.00\n",
      "  z_die[8]      0.15      0.09      0.15      0.00      0.31   3534.44      1.00\n",
      "  z_die[9]     -0.00      0.09     -0.00     -0.15      0.16   4064.59      1.00\n",
      " z_die[10]     -0.05      0.10     -0.05     -0.21      0.10   3955.37      1.00\n",
      "\n",
      "Number of divergences: 0\n"
     ]
    }
   ],
   "source": [
    "chain_run.print_summary()"
   ]
  },
  {
   "cell_type": "code",
   "execution_count": 50,
   "id": "0bba0eb6",
   "metadata": {},
   "outputs": [
    {
     "data": {
      "text/plain": [
       "DeviceArray([0.17463836, 0.18692078, 0.15655674, 0.14407547, 0.12884797,\n",
       "             0.12707298, 0.16853389, 0.16045403, 0.19370647, 0.17036732,\n",
       "             0.16358174], dtype=float32)"
      ]
     },
     "execution_count": 50,
     "metadata": {},
     "output_type": "execute_result"
    }
   ],
   "source": [
    "chain_run.get_samples()['p_6'].mean(axis=0)"
   ]
  },
  {
   "cell_type": "code",
   "execution_count": 51,
   "id": "21dd8818",
   "metadata": {},
   "outputs": [
    {
     "data": {
      "text/plain": [
       "array([0.17463836, 0.18692078, 0.15655674, 0.14407547, 0.12884797,\n",
       "       0.12707298, 0.16853389, 0.16045403, 0.19370647, 0.17036732,\n",
       "       0.16358174], dtype=float32)"
      ]
     },
     "execution_count": 51,
     "metadata": {},
     "output_type": "execute_result"
    }
   ],
   "source": [
    "np.array(chain_run.get_samples()['p_6'].mean(axis=0))"
   ]
  },
  {
   "cell_type": "code",
   "execution_count": 52,
   "id": "826c6f9e",
   "metadata": {},
   "outputs": [],
   "source": [
    "df_experiment['p_6_raw'] = df_experiment['n_6'] / df_experiment['rolls']\n",
    "df_experiment['p_6_shrink'] = np.array(chain_run.get_samples()['p_6'].mean(axis=0))"
   ]
  },
  {
   "cell_type": "code",
   "execution_count": 53,
   "id": "2d784108",
   "metadata": {},
   "outputs": [
    {
     "data": {
      "text/html": [
       "<div>\n",
       "<style scoped>\n",
       "    .dataframe tbody tr th:only-of-type {\n",
       "        vertical-align: middle;\n",
       "    }\n",
       "\n",
       "    .dataframe tbody tr th {\n",
       "        vertical-align: top;\n",
       "    }\n",
       "\n",
       "    .dataframe thead th {\n",
       "        text-align: right;\n",
       "    }\n",
       "</style>\n",
       "<table border=\"1\" class=\"dataframe\">\n",
       "  <thead>\n",
       "    <tr style=\"text-align: right;\">\n",
       "      <th></th>\n",
       "      <th>outcomes</th>\n",
       "      <th>rolls</th>\n",
       "      <th>color</th>\n",
       "      <th>n_1</th>\n",
       "      <th>n_2</th>\n",
       "      <th>n_3</th>\n",
       "      <th>n_4</th>\n",
       "      <th>n_5</th>\n",
       "      <th>n_6</th>\n",
       "      <th>p_6_raw</th>\n",
       "      <th>p_6_shrink</th>\n",
       "    </tr>\n",
       "  </thead>\n",
       "  <tbody>\n",
       "    <tr>\n",
       "      <th>0</th>\n",
       "      <td>[45, 44, 50, 50, 57, 54]</td>\n",
       "      <td>300</td>\n",
       "      <td>red</td>\n",
       "      <td>45</td>\n",
       "      <td>44</td>\n",
       "      <td>50</td>\n",
       "      <td>50</td>\n",
       "      <td>57</td>\n",
       "      <td>54</td>\n",
       "      <td>0.180000</td>\n",
       "      <td>0.174638</td>\n",
       "    </tr>\n",
       "    <tr>\n",
       "      <th>1</th>\n",
       "      <td>[42, 67, 51, 76, 79, 85]</td>\n",
       "      <td>400</td>\n",
       "      <td>red</td>\n",
       "      <td>42</td>\n",
       "      <td>67</td>\n",
       "      <td>51</td>\n",
       "      <td>76</td>\n",
       "      <td>79</td>\n",
       "      <td>85</td>\n",
       "      <td>0.212500</td>\n",
       "      <td>0.186921</td>\n",
       "    </tr>\n",
       "    <tr>\n",
       "      <th>2</th>\n",
       "      <td>[161, 165, 79, 168, 113, 114]</td>\n",
       "      <td>800</td>\n",
       "      <td>red</td>\n",
       "      <td>161</td>\n",
       "      <td>165</td>\n",
       "      <td>79</td>\n",
       "      <td>168</td>\n",
       "      <td>113</td>\n",
       "      <td>114</td>\n",
       "      <td>0.142500</td>\n",
       "      <td>0.156557</td>\n",
       "    </tr>\n",
       "    <tr>\n",
       "      <th>3</th>\n",
       "      <td>[0, 3, 5, 12, 6, 14]</td>\n",
       "      <td>40</td>\n",
       "      <td>green</td>\n",
       "      <td>0</td>\n",
       "      <td>3</td>\n",
       "      <td>5</td>\n",
       "      <td>12</td>\n",
       "      <td>6</td>\n",
       "      <td>14</td>\n",
       "      <td>0.350000</td>\n",
       "      <td>0.144075</td>\n",
       "    </tr>\n",
       "    <tr>\n",
       "      <th>4</th>\n",
       "      <td>[11, 50, 96, 9, 13, 21]</td>\n",
       "      <td>200</td>\n",
       "      <td>green</td>\n",
       "      <td>11</td>\n",
       "      <td>50</td>\n",
       "      <td>96</td>\n",
       "      <td>9</td>\n",
       "      <td>13</td>\n",
       "      <td>21</td>\n",
       "      <td>0.105000</td>\n",
       "      <td>0.128848</td>\n",
       "    </tr>\n",
       "    <tr>\n",
       "      <th>5</th>\n",
       "      <td>[35, 7, 34, 7, 2, 5]</td>\n",
       "      <td>90</td>\n",
       "      <td>green</td>\n",
       "      <td>35</td>\n",
       "      <td>7</td>\n",
       "      <td>34</td>\n",
       "      <td>7</td>\n",
       "      <td>2</td>\n",
       "      <td>5</td>\n",
       "      <td>0.055556</td>\n",
       "      <td>0.127073</td>\n",
       "    </tr>\n",
       "    <tr>\n",
       "      <th>6</th>\n",
       "      <td>[4, 11, 16, 1, 3, 5]</td>\n",
       "      <td>40</td>\n",
       "      <td>blue</td>\n",
       "      <td>4</td>\n",
       "      <td>11</td>\n",
       "      <td>16</td>\n",
       "      <td>1</td>\n",
       "      <td>3</td>\n",
       "      <td>5</td>\n",
       "      <td>0.125000</td>\n",
       "      <td>0.168534</td>\n",
       "    </tr>\n",
       "    <tr>\n",
       "      <th>7</th>\n",
       "      <td>[1, 1, 44, 0, 12, 2]</td>\n",
       "      <td>60</td>\n",
       "      <td>blue</td>\n",
       "      <td>1</td>\n",
       "      <td>1</td>\n",
       "      <td>44</td>\n",
       "      <td>0</td>\n",
       "      <td>12</td>\n",
       "      <td>2</td>\n",
       "      <td>0.033333</td>\n",
       "      <td>0.160454</td>\n",
       "    </tr>\n",
       "    <tr>\n",
       "      <th>8</th>\n",
       "      <td>[0, 43, 89, 6, 8, 54]</td>\n",
       "      <td>200</td>\n",
       "      <td>blue</td>\n",
       "      <td>0</td>\n",
       "      <td>43</td>\n",
       "      <td>89</td>\n",
       "      <td>6</td>\n",
       "      <td>8</td>\n",
       "      <td>54</td>\n",
       "      <td>0.270000</td>\n",
       "      <td>0.193706</td>\n",
       "    </tr>\n",
       "    <tr>\n",
       "      <th>9</th>\n",
       "      <td>[19, 6, 19, 20, 11, 15]</td>\n",
       "      <td>90</td>\n",
       "      <td>blue</td>\n",
       "      <td>19</td>\n",
       "      <td>6</td>\n",
       "      <td>19</td>\n",
       "      <td>20</td>\n",
       "      <td>11</td>\n",
       "      <td>15</td>\n",
       "      <td>0.166667</td>\n",
       "      <td>0.170367</td>\n",
       "    </tr>\n",
       "    <tr>\n",
       "      <th>10</th>\n",
       "      <td>[15, 10, 47, 16, 1, 11]</td>\n",
       "      <td>100</td>\n",
       "      <td>blue</td>\n",
       "      <td>15</td>\n",
       "      <td>10</td>\n",
       "      <td>47</td>\n",
       "      <td>16</td>\n",
       "      <td>1</td>\n",
       "      <td>11</td>\n",
       "      <td>0.110000</td>\n",
       "      <td>0.163582</td>\n",
       "    </tr>\n",
       "  </tbody>\n",
       "</table>\n",
       "</div>"
      ],
      "text/plain": [
       "                         outcomes  rolls  color  n_1  n_2  n_3  n_4  n_5  n_6  \\\n",
       "0        [45, 44, 50, 50, 57, 54]    300    red   45   44   50   50   57   54   \n",
       "1        [42, 67, 51, 76, 79, 85]    400    red   42   67   51   76   79   85   \n",
       "2   [161, 165, 79, 168, 113, 114]    800    red  161  165   79  168  113  114   \n",
       "3            [0, 3, 5, 12, 6, 14]     40  green    0    3    5   12    6   14   \n",
       "4         [11, 50, 96, 9, 13, 21]    200  green   11   50   96    9   13   21   \n",
       "5            [35, 7, 34, 7, 2, 5]     90  green   35    7   34    7    2    5   \n",
       "6            [4, 11, 16, 1, 3, 5]     40   blue    4   11   16    1    3    5   \n",
       "7            [1, 1, 44, 0, 12, 2]     60   blue    1    1   44    0   12    2   \n",
       "8           [0, 43, 89, 6, 8, 54]    200   blue    0   43   89    6    8   54   \n",
       "9         [19, 6, 19, 20, 11, 15]     90   blue   19    6   19   20   11   15   \n",
       "10        [15, 10, 47, 16, 1, 11]    100   blue   15   10   47   16    1   11   \n",
       "\n",
       "     p_6_raw  p_6_shrink  \n",
       "0   0.180000    0.174638  \n",
       "1   0.212500    0.186921  \n",
       "2   0.142500    0.156557  \n",
       "3   0.350000    0.144075  \n",
       "4   0.105000    0.128848  \n",
       "5   0.055556    0.127073  \n",
       "6   0.125000    0.168534  \n",
       "7   0.033333    0.160454  \n",
       "8   0.270000    0.193706  \n",
       "9   0.166667    0.170367  \n",
       "10  0.110000    0.163582  "
      ]
     },
     "execution_count": 53,
     "metadata": {},
     "output_type": "execute_result"
    }
   ],
   "source": [
    "df_experiment"
   ]
  },
  {
   "cell_type": "markdown",
   "id": "23f8b966",
   "metadata": {},
   "source": [
    "What do we think the population effects of the different colors are?"
   ]
  },
  {
   "cell_type": "markdown",
   "id": "cc607ed3",
   "metadata": {},
   "source": [
    "Red:"
   ]
  },
  {
   "cell_type": "code",
   "execution_count": 17,
   "id": "69c2b214",
   "metadata": {},
   "outputs": [],
   "source": [
    "z_colors = (\n",
    "    chain_run.get_samples()['bias'].mean(axis=0) \n",
    "    + chain_run.get_samples()['z_color'].mean(axis=0)\n",
    ")"
   ]
  },
  {
   "cell_type": "code",
   "execution_count": 18,
   "id": "09a6b901",
   "metadata": {},
   "outputs": [
    {
     "data": {
      "text/plain": [
       "DeviceArray([0.18245903, 0.22007586, 0.19692445], dtype=float32)"
      ]
     },
     "execution_count": 18,
     "metadata": {},
     "output_type": "execute_result"
    }
   ],
   "source": [
    "1/(1+jnp.exp(-z_colors))"
   ]
  },
  {
   "cell_type": "code",
   "execution_count": 19,
   "id": "480a81e9",
   "metadata": {},
   "outputs": [
    {
     "data": {
      "text/plain": [
       "0       red\n",
       "1       red\n",
       "2       red\n",
       "3     green\n",
       "4     green\n",
       "5     green\n",
       "6      blue\n",
       "7      blue\n",
       "8      blue\n",
       "9      blue\n",
       "10     blue\n",
       "Name: color, dtype: category\n",
       "Categories (3, object): ['blue', 'green', 'red']"
      ]
     },
     "execution_count": 19,
     "metadata": {},
     "output_type": "execute_result"
    }
   ],
   "source": [
    "df_experiment.color"
   ]
  },
  {
   "cell_type": "code",
   "execution_count": 56,
   "id": "27c1d7d5",
   "metadata": {},
   "outputs": [
    {
     "data": {
      "text/plain": [
       "DeviceArray([ 0.01707763,  0.1008127 , -0.11268052,  0.0807372 ,\n",
       "             -0.04657645, -0.06401747, -0.01786875, -0.07664743,\n",
       "              0.15381113, -0.00475951, -0.0529045 ], dtype=float32)"
      ]
     },
     "execution_count": 56,
     "metadata": {},
     "output_type": "execute_result"
    }
   ],
   "source": [
    "chain_run.get_samples()['z_die'].mean(axis=0)"
   ]
  },
  {
   "cell_type": "code",
   "execution_count": null,
   "id": "5b916894",
   "metadata": {},
   "outputs": [],
   "source": []
  }
 ],
 "metadata": {
  "kernelspec": {
   "display_name": "bayesian",
   "language": "python",
   "name": "bayesian"
  },
  "language_info": {
   "codemirror_mode": {
    "name": "ipython",
    "version": 3
   },
   "file_extension": ".py",
   "mimetype": "text/x-python",
   "name": "python",
   "nbconvert_exporter": "python",
   "pygments_lexer": "ipython3",
   "version": "3.9.2"
  }
 },
 "nbformat": 4,
 "nbformat_minor": 5
}
